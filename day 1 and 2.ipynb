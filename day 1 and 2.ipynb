{
 "cells": [
  {
   "cell_type": "code",
   "execution_count": null,
   "id": "initial_id",
   "metadata": {
    "collapsed": true
   },
   "outputs": [],
   "source": "print(len(input(\"What is your name?\")))#Check no of charectors in given input\n"
  },
  {
   "metadata": {
    "ExecuteTime": {
     "end_time": "2025-10-09T13:34:42.116386Z",
     "start_time": "2025-10-09T13:34:36.516288Z"
    }
   },
   "cell_type": "code",
   "source": [
    "username = input(\"What is your name?\")\n",
    "length = len(username)\n",
    "print(length)"
   ],
   "id": "94c20499104f0ee8",
   "outputs": [
    {
     "name": "stdout",
     "output_type": "stream",
     "text": [
      "8\n"
     ]
    }
   ],
   "execution_count": 5
  },
  {
   "metadata": {
    "ExecuteTime": {
     "end_time": "2025-10-09T13:41:38.676835Z",
     "start_time": "2025-10-09T13:41:32.117011Z"
    }
   },
   "cell_type": "code",
   "source": [
    "#Band Name Generator\n",
    "city_name= input(\"What is the city you grew up in?\")\n",
    "pet_name = input(\"What is your pet name?\")\n",
    "print(\"Your band name is \" + city_name + \" \" + pet_name + \"!\")"
   ],
   "id": "7382271140322504",
   "outputs": [
    {
     "name": "stdout",
     "output_type": "stream",
     "text": [
      "Your band name is Blr Zoey!\n"
     ]
    }
   ],
   "execution_count": 10
  },
  {
   "metadata": {
    "ExecuteTime": {
     "end_time": "2025-10-09T13:47:05.211690Z",
     "start_time": "2025-10-09T13:47:05.166558Z"
    }
   },
   "cell_type": "code",
   "source": "print(type(123))",
   "id": "f10ded8ee07f3f61",
   "outputs": [
    {
     "name": "stdout",
     "output_type": "stream",
     "text": [
      "<class 'int'>\n"
     ]
    }
   ],
   "execution_count": 11
  },
  {
   "metadata": {
    "ExecuteTime": {
     "end_time": "2025-10-09T13:47:57.154261Z",
     "start_time": "2025-10-09T13:47:57.142084Z"
    }
   },
   "cell_type": "code",
   "source": [
    "print(type(123))\n",
    "print(type(\"123\"))\n",
    "print(type(1.23))\n",
    "print(type(False))"
   ],
   "id": "826db041799c35e0",
   "outputs": [
    {
     "name": "stdout",
     "output_type": "stream",
     "text": [
      "<class 'int'>\n",
      "<class 'str'>\n",
      "<class 'float'>\n",
      "<class 'bool'>\n"
     ]
    }
   ],
   "execution_count": 12
  },
  {
   "metadata": {
    "ExecuteTime": {
     "end_time": "2025-10-09T13:50:44.777748Z",
     "start_time": "2025-10-09T13:50:40.457599Z"
    }
   },
   "cell_type": "code",
   "source": "print(\"Number of letters in your name: \" + str(len(input(\"Enter your name: \"))))",
   "id": "d1f5ed446429dd78",
   "outputs": [
    {
     "name": "stdout",
     "output_type": "stream",
     "text": [
      "Number of letters in your name: 8\n"
     ]
    }
   ],
   "execution_count": 16
  },
  {
   "metadata": {
    "ExecuteTime": {
     "end_time": "2025-10-09T13:59:59.063638Z",
     "start_time": "2025-10-09T13:59:59.019586Z"
    }
   },
   "cell_type": "code",
   "source": [
    "height = 1.65\n",
    "weight = 84\n",
    "\n",
    "# Write your code here.\n",
    "# Calculate the bmi using weight and height.\n",
    "bmi = weight/(height**2)\n",
    "\n",
    "print(round(bmi, 2))"
   ],
   "id": "5470dd363925ced7",
   "outputs": [
    {
     "name": "stdout",
     "output_type": "stream",
     "text": [
      "30.85\n"
     ]
    }
   ],
   "execution_count": 17
  },
  {
   "metadata": {
    "ExecuteTime": {
     "end_time": "2025-10-09T14:10:19.135267Z",
     "start_time": "2025-10-09T14:09:58.789995Z"
    }
   },
   "cell_type": "code",
   "source": [
    "food_cost=int(input(\"How much does your bill cost?\"))\n",
    "tip =int(input(\"What percent do you want to tip? \"))\n",
    "number_of_people=int(input(\"How many people are splitting the bill?\"))\n",
    "total_per_person=round((food_cost +tip/100)/number_of_people, 2)\n",
    "print(f\"Each person needs to pay: {total_per_person} \")\n"
   ],
   "id": "d22417a62b4879d6",
   "outputs": [
    {
     "name": "stdout",
     "output_type": "stream",
     "text": [
      "Each person needs to pay: 200.04 \n"
     ]
    }
   ],
   "execution_count": 18
  },
  {
   "metadata": {
    "ExecuteTime": {
     "end_time": "2025-10-09T16:10:03.639876Z",
     "start_time": "2025-10-09T16:09:59.719898Z"
    }
   },
   "cell_type": "code",
   "source": [
    "number=input(\"Enter a number : \")\n",
    "if float(number)%2==0:\n",
    "    print(\"The number is even\")\n",
    "else:\n",
    "    print(\"The number is odd or a decimal number\")\n"
   ],
   "id": "599123da5d5d8b99",
   "outputs": [
    {
     "name": "stdout",
     "output_type": "stream",
     "text": [
      "The number is odd or a decimal number\n"
     ]
    }
   ],
   "execution_count": 21
  }
 ],
 "metadata": {
  "kernelspec": {
   "display_name": "Python 3",
   "language": "python",
   "name": "python3"
  },
  "language_info": {
   "codemirror_mode": {
    "name": "ipython",
    "version": 2
   },
   "file_extension": ".py",
   "mimetype": "text/x-python",
   "name": "python",
   "nbconvert_exporter": "python",
   "pygments_lexer": "ipython2",
   "version": "2.7.6"
  }
 },
 "nbformat": 4,
 "nbformat_minor": 5
}
