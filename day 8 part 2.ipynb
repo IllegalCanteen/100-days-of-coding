{
 "cells": [
  {
   "metadata": {},
   "cell_type": "code",
   "outputs": [],
   "execution_count": null,
   "source": [
    "#Countdown until 90\n",
    "def life_in_weeks(years):\n",
    "    if isinstance(years, int):\n",
    "        weeks=(90-years)*52\n",
    "        print(f\"You have {weeks} weeks left until you are 90\" )\n",
    "    else:\n",
    "        print(\"Invalid input\")\n",
    "age=int(input(\"How many years old are you? \"))\n",
    "life_in_weeks(age)\n",
    "\n",
    "\n"
   ],
   "id": "8547a0199249cba8"
  },
  {
   "metadata": {
    "ExecuteTime": {
     "end_time": "2025-10-20T15:07:16.983365Z",
     "start_time": "2025-10-20T15:07:07.336726Z"
    }
   },
   "cell_type": "code",
   "source": [
    "#Greeter with name and location\n",
    "def greet_with(name, location):\n",
    "    print(f\"Hello {name}\\nHow is the weather at {location}?\\nHope you enjoy today!\")\n",
    "Name=input(\"What is your name? \")\n",
    "Location=input(\"Where do you live? \")\n",
    "greet_with(Name, Location)"
   ],
   "id": "e0466bef2d89c7f",
   "outputs": [
    {
     "name": "stdout",
     "output_type": "stream",
     "text": [
      "Hello Kaustubh\n",
      "How is the weather at Blr?\n",
      "Hope you enjoy today!\n"
     ]
    }
   ],
   "execution_count": 1
  },
  {
   "metadata": {
    "ExecuteTime": {
     "end_time": "2025-10-20T16:04:44.284411Z",
     "start_time": "2025-10-20T16:04:29.892016Z"
    }
   },
   "cell_type": "code",
   "source": [
    "def calculate_love_score(name_1, name_2):\n",
    "    true_score=0\n",
    "    love_score=0\n",
    "    for letter in name_1:\n",
    "        if letter in \"true\":\n",
    "            true_score+=1\n",
    "        elif letter in \"love\":\n",
    "            love_score+=1\n",
    "    for letter in name_2:\n",
    "        if letter in \"true\":\n",
    "            true_score+=1\n",
    "        elif letter in \"love\":\n",
    "            love_score+=1\n",
    "    if love_score or true_score>= 10:\n",
    "        print(\"you both are 100% compatible!\")\n",
    "    print(f\"you both are {true_score}{love_score}% compatible\")\n",
    "name_1=input(\"Ent=er the first person's name: \").lower()\n",
    "name_2=input(\"Enter the second person's name: \").lower()\n",
    "calculate_love_score(name_1, name_2)"
   ],
   "id": "9fc50bbcab8f1494",
   "outputs": [
    {
     "name": "stdout",
     "output_type": "stream",
     "text": [
      "you both are 100% compatible!\n",
      "you both are 721% compatible\n"
     ]
    }
   ],
   "execution_count": 18
  }
 ],
 "metadata": {},
 "nbformat": 4,
 "nbformat_minor": 5
}
