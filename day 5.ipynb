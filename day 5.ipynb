{
 "cells": [
  {
   "cell_type": "code",
   "id": "initial_id",
   "metadata": {
    "collapsed": true,
    "ExecuteTime": {
     "end_time": "2025-10-12T07:47:24.251959Z",
     "start_time": "2025-10-12T07:47:24.242930Z"
    }
   },
   "source": [
    "#sigma of given range\n",
    "sum=0\n",
    "for numbers in range(1,101):\n",
    "    sum=sum+numbers\n",
    "print(sum)\n",
    "\n",
    "\n"
   ],
   "outputs": [
    {
     "name": "stdout",
     "output_type": "stream",
     "text": [
      "5050\n"
     ]
    }
   ],
   "execution_count": 3
  },
  {
   "metadata": {
    "ExecuteTime": {
     "end_time": "2025-10-12T08:01:14.922077Z",
     "start_time": "2025-10-12T08:01:14.852947Z"
    }
   },
   "cell_type": "code",
   "source": [
    "#Fizzbuzz game\n",
    "game=[]\n",
    "for number in range(1,101):\n",
    "    if number%15==0:\n",
    "        number=\"Fizzbuzz\"\n",
    "    elif number%3==0:\n",
    "        number=\"Fizz\"\n",
    "    elif number%5==0:\n",
    "        number=\"Buzz\"\n",
    "    else:\n",
    "        number==str(number)\n",
    "    game=game +[number]\n",
    "print(game)"
   ],
   "id": "ddccba9e450b6018",
   "outputs": [
    {
     "name": "stdout",
     "output_type": "stream",
     "text": [
      "[1, 2, 'Fizz', 4, 'Buzz', 'Fizz', 7, 8, 'Fizz', 'Buzz', 11, 'Fizz', 13, 14, 'Fizzbuzz', 16, 17, 'Fizz', 19, 'Buzz', 'Fizz', 22, 23, 'Fizz', 'Buzz', 26, 'Fizz', 28, 29, 'Fizzbuzz', 31, 32, 'Fizz', 34, 'Buzz', 'Fizz', 37, 38, 'Fizz', 'Buzz', 41, 'Fizz', 43, 44, 'Fizzbuzz', 46, 47, 'Fizz', 49, 'Buzz', 'Fizz', 52, 53, 'Fizz', 'Buzz', 56, 'Fizz', 58, 59, 'Fizzbuzz', 61, 62, 'Fizz', 64, 'Buzz', 'Fizz', 67, 68, 'Fizz', 'Buzz', 71, 'Fizz', 73, 74, 'Fizzbuzz', 76, 77, 'Fizz', 79, 'Buzz', 'Fizz', 82, 83, 'Fizz', 'Buzz', 86, 'Fizz', 88, 89, 'Fizzbuzz', 91, 92, 'Fizz', 94, 'Buzz', 'Fizz', 97, 98, 'Fizz', 'Buzz']\n"
     ]
    }
   ],
   "execution_count": 4
  },
  {
   "metadata": {
    "ExecuteTime": {
     "end_time": "2025-10-12T08:18:56.948740Z",
     "start_time": "2025-10-12T08:18:48.009483Z"
    }
   },
   "cell_type": "code",
   "source": [
    "#Password Generator Project\n",
    "import random\n",
    "letters = ['a', 'b', 'c', 'd', 'e', 'f', 'g', 'h', 'i', 'j', 'k', 'l', 'm', 'n', 'o', 'p', 'q', 'r', 's', 't', 'u', 'v', 'w', 'x', 'y', 'z', 'A', 'B', 'C', 'D', 'E', 'F', 'G', 'H', 'I', 'J', 'K', 'L', 'M', 'N', 'O', 'P', 'Q', 'R', 'S', 'T', 'U', 'V', 'W', 'X', 'Y', 'Z']\n",
    "numbers = ['0', '1', '2', '3', '4', '5', '6', '7', '8', '9']\n",
    "symbols = ['!', '#', '$', '%', '&', '(', ')', '*', '+']\n",
    "\n",
    "print(\"Welcome to the PyPassword Generator!\")\n",
    "nr_letters= int(input(\"How many letters would you like in your password?\\n\"))\n",
    "nr_symbols = int(input(f\"How many symbols would you like?\\n\"))\n",
    "nr_numbers = int(input(f\"How many numbers would you like?\\n\"))\n",
    "\n",
    "\n",
    "\n",
    "#Hard Level - Order of characters randomised:\n",
    "#e.g. 4 letter, 2 symbol, 2 number = g^2jk8&P\n",
    "alpha=[random.choice(letters) for i in range(nr_letters)]\n",
    "sym=[random.choice(symbols) for i in range(nr_symbols)]\n",
    "num=[random.choice(numbers) for i in range(nr_numbers)]\n",
    "password=alpha + sym + num\n",
    "random.shuffle(password)\n",
    "new_password=\"\".join(password)\n",
    "print(f\"your new password is -{new_password}\")\n",
    "\n"
   ],
   "id": "ae69bed75b4e62f1",
   "outputs": [
    {
     "name": "stdout",
     "output_type": "stream",
     "text": [
      "Welcome to the PyPassword Generator!\n",
      "your new password is -()*)$%##N+$S9)&!)!&l%l)#%&)3$#)+&6I++3x)&&&)3&++$+&M#R++(*&#&!8j(#%14%+(!+((*!!!!!9*)!%#%$++&#$*+%*\n"
     ]
    }
   ],
   "execution_count": 13
  }
 ],
 "metadata": {
  "kernelspec": {
   "display_name": "Python 3",
   "language": "python",
   "name": "python3"
  },
  "language_info": {
   "codemirror_mode": {
    "name": "ipython",
    "version": 2
   },
   "file_extension": ".py",
   "mimetype": "text/x-python",
   "name": "python",
   "nbconvert_exporter": "python",
   "pygments_lexer": "ipython2",
   "version": "2.7.6"
  }
 },
 "nbformat": 4,
 "nbformat_minor": 5
}
