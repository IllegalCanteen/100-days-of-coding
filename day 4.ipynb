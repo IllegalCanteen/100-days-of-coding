{
 "cells": [
  {
   "cell_type": "code",
   "id": "initial_id",
   "metadata": {
    "collapsed": true,
    "ExecuteTime": {
     "end_time": "2025-10-10T08:40:04.204960Z",
     "start_time": "2025-10-10T08:40:04.160686Z"
    }
   },
   "source": [
    "#Heads or tails simulator\n",
    "import random\n",
    "result=[toss]\n",
    "count=1\n",
    "while count<100:\n",
    "    count +=1\n",
    "    toss=random.randint(0,1)\n",
    "    if toss==0:\n",
    "        toss=\"Heads\"\n",
    "    else:\n",
    "        toss=\"Tails\"\n",
    "    result=result+[toss]\n",
    "print(result)"
   ],
   "outputs": [
    {
     "name": "stdout",
     "output_type": "stream",
     "text": [
      "['Heads', 'Tails', 'Heads', 'Tails', 'Tails', 'Heads', 'Tails', 'Tails', 'Tails', 'Heads', 'Tails', 'Heads', 'Heads', 'Tails', 'Tails', 'Heads', 'Tails', 'Heads', 'Tails', 'Heads', 'Tails', 'Heads', 'Tails', 'Heads', 'Heads', 'Heads', 'Tails', 'Tails', 'Tails', 'Heads', 'Heads', 'Tails', 'Tails', 'Tails', 'Heads', 'Tails', 'Tails', 'Heads', 'Heads', 'Tails', 'Tails', 'Heads', 'Tails', 'Heads', 'Tails', 'Heads', 'Heads', 'Tails', 'Tails', 'Heads', 'Heads', 'Heads', 'Tails', 'Heads', 'Tails', 'Heads', 'Tails', 'Tails', 'Tails', 'Tails', 'Heads', 'Tails', 'Tails', 'Tails', 'Heads', 'Heads', 'Heads', 'Tails', 'Tails', 'Heads', 'Tails', 'Tails', 'Heads', 'Heads', 'Heads', 'Tails', 'Heads', 'Tails', 'Tails', 'Heads', 'Heads', 'Heads', 'Heads', 'Heads', 'Tails', 'Heads', 'Tails', 'Heads', 'Tails', 'Tails', 'Tails', 'Heads', 'Heads', 'Tails', 'Heads', 'Tails', 'Heads', 'Tails', 'Heads', 'Heads']\n"
     ]
    }
   ],
   "execution_count": 39
  },
  {
   "metadata": {
    "ExecuteTime": {
     "end_time": "2025-10-10T08:46:43.761523Z",
     "start_time": "2025-10-10T08:46:43.755329Z"
    }
   },
   "cell_type": "code",
   "source": [
    "import random\n",
    "friends=[\"Alice\", \"Bob\", \"Charlie\", \"David\", \"Emanuel\"]\n",
    "payer=random.randint(0,4)\n",
    "print(f\"The person who is paying is- {friends[payer]} !\")\n"
   ],
   "id": "57d326404e81382f",
   "outputs": [
    {
     "name": "stdout",
     "output_type": "stream",
     "text": [
      "The person who is paying is- Bob !\n"
     ]
    }
   ],
   "execution_count": 79
  },
  {
   "metadata": {
    "ExecuteTime": {
     "end_time": "2025-10-11T18:02:00.712736Z",
     "start_time": "2025-10-11T18:01:57.963858Z"
    }
   },
   "cell_type": "code",
   "source": [
    "#Rock paper scissors\n",
    "import random\n",
    "rock='''\n",
    "    _______\n",
    "---'   ____)\n",
    "      (_____)\n",
    "      (_____)\n",
    "      (____)\n",
    "---.__(___)\n",
    "'''\n",
    "paper='''\n",
    "     _______\n",
    "---'    ____)____\n",
    "           ______)\n",
    "          _______)\n",
    "         _______)\n",
    "---.__________)'''\n",
    "scissors='''\n",
    "    _______\n",
    "---'   ____)____\n",
    "          ______)\n",
    "       __________)\n",
    "      (____)\n",
    "---.__(___)\n",
    "'''\n",
    "choice=[\"rock\",\"paper\",\"scissors\"]\n",
    "\n",
    "player_choice=int(input(\"Do you want to play rock(0) paper(1) or scissors(2)? \"))\n",
    "computer_choice=random.randint(0,2)\n",
    "print(F\"You played {player_choice}!\")\n",
    "print(f\"Computer played-\\n {choice[computer_choice]}!\")\n",
    "print(f\"You played-\\n {choice[player_choice]}\")\n",
    "if player_choice==computer_choice:\n",
    "    print(f\"It's a tie! you both played the same thing !\")\n",
    "elif player_choice==0 and computer_choice==1:\n",
    "    print(f\"The computer played paper and won !\")\n",
    "elif player_choice==1 and computer_choice==0:\n",
    "    print(f\"The computer played rock and lost !\")\n",
    "elif player_choice==0 and computer_choice==2:\n",
    "    print(f\"The computer played scissors and lost !\")\n",
    "elif player_choice==2 and computer_choice==0:\n",
    "    print(f\"The computer played rock and won !\")\n",
    "elif player_choice==2 and computer_choice==1:\n",
    "    print(f\"The computer played paper and lost !\")\n",
    "elif player_choice==1 and computer_choice==2:\n",
    "    print(f\"The computer played scissors and won !\")\n",
    "else:\n",
    "    print(f\"Invalid option try 0 1 or 2  !\")"
   ],
   "id": "b4269505b7b68123",
   "outputs": [
    {
     "name": "stdout",
     "output_type": "stream",
     "text": [
      "You played 0!\n",
      "Computer played-\n",
      " scissors!\n",
      "You played-\n",
      " rock\n",
      "The computer played scissors and lost !\n"
     ]
    }
   ],
   "execution_count": 2
  }
 ],
 "metadata": {
  "kernelspec": {
   "display_name": "Python 3",
   "language": "python",
   "name": "python3"
  },
  "language_info": {
   "codemirror_mode": {
    "name": "ipython",
    "version": 2
   },
   "file_extension": ".py",
   "mimetype": "text/x-python",
   "name": "python",
   "nbconvert_exporter": "python",
   "pygments_lexer": "ipython2",
   "version": "2.7.6"
  }
 },
 "nbformat": 4,
 "nbformat_minor": 5
}
